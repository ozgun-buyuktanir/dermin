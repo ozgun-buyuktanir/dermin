{
  "cells": [
    {
      "cell_type": "markdown",
      "metadata": {},
      "source": "### Cinsiyet Dağılımı:"
    },
    {
      "cell_type": "markdown",
      "metadata": {},
      "source": "Kadın: 73 kişi (%69,5)"
    },
    {
      "cell_type": "markdown",
      "metadata": {},
      "source": "Erkek: 32 kişi (%30,5)"
    },
    {
      "cell_type": "markdown",
      "metadata": {},
      "source": "Kadın katılımcılar belirgin şekilde çoğunlukta."
    },
    {
      "cell_type": "markdown",
      "metadata": {},
      "source": "### Yaş Dağılımı:"
    },
    {
      "cell_type": "markdown",
      "metadata": {},
      "source": "15-24 yaş: 68 kişi"
    },
    {
      "cell_type": "markdown",
      "metadata": {},
      "source": "25-34 yaş: 28 kişi"
    },
    {
      "cell_type": "markdown",
      "metadata": {},
      "source": "35-44 yaş: 8 kişi"
    },
    {
      "cell_type": "markdown",
      "metadata": {},
      "source": "45-54 yaş: 1 kişi"
    },
    {
      "cell_type": "markdown",
      "metadata": {},
      "source": "55 yaş ve üstü: 0 kişi"
    },
    {
      "cell_type": "markdown",
      "metadata": {},
      "source": "Katılımcıların büyük çoğunluğu gençlerden oluşuyor. Özellikle 15-24 yaş aralığı baskın."
    },
    {
      "cell_type": "markdown",
      "metadata": {},
      "source": "### Cilt Tipi Dağılımı:"
    },
    {
      "cell_type": "markdown",
      "metadata": {},
      "source": "Karma: 45 kişi"
    },
    {
      "cell_type": "markdown",
      "metadata": {},
      "source": "Yağlı: 26 kişi"
    },
    {
      "cell_type": "markdown",
      "metadata": {},
      "source": "Kuru: 17 kişi"
    },
    {
      "cell_type": "markdown",
      "metadata": {},
      "source": "Normal: 11 kişi"
    },
    {
      "cell_type": "markdown",
      "metadata": {},
      "source": "Hassas: 6 kişi"
    },
    {
      "cell_type": "markdown",
      "metadata": {},
      "source": "En yaygın cilt tipi karma, ardından yağlı cilt tipi geliyor."
    },
    {
      "cell_type": "markdown",
      "metadata": {},
      "source": "### En Yaygın Cilt Problemleri (Top 5):"
    },
    {
      "cell_type": "markdown",
      "metadata": {},
      "source": "Sivilce: 46 kişi"
    },
    {
      "cell_type": "markdown",
      "metadata": {},
      "source": "Siyah nokta: 37 kişi"
    },
    {
      "cell_type": "markdown",
      "metadata": {},
      "source": "Gözenek problemi: 29 kişi"
    },
    {
      "cell_type": "markdown",
      "metadata": {},
      "source": "Cilt tonu eşitsizliği: 25 kişi"
    },
    {
      "cell_type": "markdown",
      "metadata": {},
      "source": "Kuruluk: 22 kişi"
    },
    {
      "cell_type": "markdown",
      "metadata": {},
      "source": "Sivilce ve siyah nokta en yaygın problemler arasında yer alıyor, bu da genç yaş grubunun ağırlıklı olmasından kaynaklı olabilir."
    },
    {
      "cell_type": "markdown",
      "metadata": {},
      "source": "1. Temel Dağılımlar"
    },
    {
      "cell_type": "markdown",
      "metadata": {},
      "source": "2. Cinsiyet × Cilt Tipi"
    },
    {
      "cell_type": "markdown",
      "metadata": {},
      "source": "Özet;"
    },
    {
      "cell_type": "markdown",
      "metadata": {},
      "source": "Erkeklerin yarıya yakını yağlı ciltli."
    },
    {
      "cell_type": "markdown",
      "metadata": {},
      "source": "Kadınların yarısı karma ciltli; kuru cilt de kadınlarda iki kat fazla."
    },
    {
      "cell_type": "markdown",
      "metadata": {},
      "source": "3. Yaş Aralığı × Cilt Tipi"
    },
    {
      "cell_type": "markdown",
      "metadata": {},
      "source": "Özet;"
    },
    {
      "cell_type": "markdown",
      "metadata": {},
      "source": "21-25 grubunda yağlı cilt oranı en yüksek (%27)."
    },
    {
      "cell_type": "markdown",
      "metadata": {},
      "source": "26-30 ve 31-35’te karma cilt hâkim."
    },
    {
      "cell_type": "markdown",
      "metadata": {},
      "source": "36-40’ta kuru & karma başa baş; yaş arttıkça kuru/hassas artıyor."
    },
    {
      "cell_type": "markdown",
      "metadata": {},
      "source": "4. En Yaygın Cilt Sorunları (105 kişide toplam tekrar sayısı)"
    },
    {
      "cell_type": "markdown",
      "metadata": {},
      "source": "5. Sorun × Cilt Tipi"
    },
    {
      "cell_type": "markdown",
      "metadata": {},
      "source": "Yorum;"
    },
    {
      "cell_type": "markdown",
      "metadata": {},
      "source": "Akne-siyah nokta → karma & yağlı tiplerde yoğun (%75’ten fazla)."
    },
    {
      "cell_type": "markdown",
      "metadata": {},
      "source": "Kuruluk/pullanma → en çok kuru ciltte; karma/yağlıda da az sayıda var."
    },
    {
      "cell_type": "markdown",
      "metadata": {},
      "source": "Egzama küçük bir azınlıkta, fakat her cilt tipinde az da olsa görülüyor."
    },
    {
      "cell_type": "markdown",
      "metadata": {},
      "source": "6. Sorun × Yaş Aralığı (en sık üç sorun)"
    },
    {
      "cell_type": "markdown",
      "metadata": {},
      "source": "En genç grupta akne-siyah nokta baskın. Yaş ilerledikçe akne azalırken kuruluk ve kızarıklık artıyor."
    },
    {
      "cell_type": "markdown",
      "metadata": {},
      "source": "7. Yaşam Stili Etkenleri"
    },
    {
      "cell_type": "markdown",
      "metadata": {},
      "source": "8. Kim Ne Kadar Yatkın?"
    },
    {
      "cell_type": "markdown",
      "metadata": {},
      "source": "Analiz & Sonuçlar"
    },
    {
      "cell_type": "markdown",
      "metadata": {},
      "source": "Dermatoloğa gitmeyen bireyler genellikle 18-30 yaş aralığında ve büyük çoğunluğu kadın."
    },
    {
      "cell_type": "markdown",
      "metadata": {},
      "source": "Karma ve yağlı cilt tipleri, dermatoloğa gitmeyenler arasında baskın."
    },
    {
      "cell_type": "markdown",
      "metadata": {},
      "source": "Cilt sorunu yaşayıp doktora gitmeyen sayısı yüksek: Bu, ihmal veya bilgi eksikliğine işaret edebilir."
    },
    {
      "cell_type": "markdown",
      "metadata": {},
      "source": "Normal ve kuru cilt tiplerinde dermatoloğa gitme oranı daha yüksek, hassas ciltliler ise doktora gitmeden daha fazla rahatsızlık yaşıyor olabilir."
    },
    {
      "cell_type": "markdown",
      "metadata": {},
      "source": "Neden Dermin Projesi Önemli?"
    },
    {
      "cell_type": "markdown",
      "metadata": {},
      "source": "1. Dermatoloğa Gitmeyenlerin Oranı Yüksek"
    },
    {
      "cell_type": "markdown",
      "metadata": {},
      "source": "105 katılımcının %72'si (yaklaşık 76 kişi) hayatında hiç dermatoloğa gitmemiş."
    },
    {
      "cell_type": "markdown",
      "metadata": {},
      "source": "Bu bireylerin çoğunluğu 20-30 yaş aralığında ve cilt problemleri yaşamasına rağmen profesyonel yardım almamış."
    },
    {
      "cell_type": "markdown",
      "metadata": {},
      "source": "2. Farkındalık Var, Erişim Yok"
    },
    {
      "cell_type": "markdown",
      "metadata": {},
      "source": "Cilt problemi yaşayanlar arasında dermatolojik destek almak isteyen ama randevu alma, ulaşamama veya çekinme gibi nedenlerle doktora gitmeyen büyük bir kitle bulunuyor."
    },
    {
      "cell_type": "markdown",
      "metadata": {},
      "source": "Özellikle öğrenciler ve genç yetişkinler bu gruba dahil."
    },
    {
      "cell_type": "markdown",
      "metadata": {},
      "source": "3. Kendi Kendine Ürün Kullanımı Yaygın"
    },
    {
      "cell_type": "markdown",
      "metadata": {},
      "source": "Doktora gitmeyen kişilerin büyük bölümü internetten, sosyal medyadan veya arkadaş önerisiyle ürün alıyor."
    },
    {
      "cell_type": "markdown",
      "metadata": {},
      "source": "Bu da yanlış ürün kullanımı, cilt bariyerine zarar ve sorunların kronikleşmesi gibi riskleri beraberinde getiriyor."
    },
    {
      "cell_type": "markdown",
      "metadata": {},
      "source": "### 4. Dermin ile Dijital Çözüm:"
    },
    {
      "cell_type": "markdown",
      "metadata": {},
      "source": "Yapay zekâ temelli analiz sistemi ile kişisel cilt tipine uygun ürün önerileri, içerik uyarıları, bakım takibi gibi hizmetler sunulabilir."
    },
    {
      "cell_type": "markdown",
      "metadata": {},
      "source": "Dermatoloğa ulaşamayan bireylere bilimsel dayanaklı, kişiselleştirilmiş destek sunulmuş olur."
    },
    {
      "cell_type": "markdown",
      "metadata": {},
      "source": "Sisteme girilen yaş, cinsiyet, cilt tipi, kullanılan ürünler gibi verilerle gerçek zamanlı risk analizi ve ürün eşleştirmesi yapılabilir."
    },
    {
      "cell_type": "markdown",
      "metadata": {},
      "source": "### Sonuç:"
    },
    {
      "cell_type": "markdown",
      "metadata": {},
      "source": "Dermin, dermatoloğa ulaşamayan 10 kişiden 7’sine ulaşarak, doğru cilt bakımı rehberliği sunabilir. Bu hem toplum sağlığı açısından büyük bir adım, hem de kozmetik sektörüne bilimsel bir dönüşüm fırsatıdır."
    }
  ],
  "metadata": {
    "kernelspec": {
      "display_name": "Python 3",
      "language": "python",
      "name": "python3"
    },
    "language_info": {
      "name": "python",
      "version": "3.x"
    }
  },
  "nbformat": 4,
  "nbformat_minor": 2
}